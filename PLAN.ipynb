{
  "nbformat": 4,
  "nbformat_minor": 0,
  "metadata": {
    "colab": {
      "provenance": [],
      "authorship_tag": "ABX9TyN0SiLJUrao20/nH6elTuvY",
      "include_colab_link": true
    },
    "kernelspec": {
      "name": "python3",
      "display_name": "Python 3"
    },
    "language_info": {
      "name": "python"
    }
  },
  "cells": [
    {
      "cell_type": "markdown",
      "metadata": {
        "id": "view-in-github",
        "colab_type": "text"
      },
      "source": [
        "<a href=\"https://colab.research.google.com/github/nnilayy/Classification-Notebook/blob/main/PLAN.ipynb\" target=\"_parent\"><img src=\"https://colab.research.google.com/assets/colab-badge.svg\" alt=\"Open In Colab\"/></a>"
      ]
    },
    {
      "cell_type": "code",
      "execution_count": 2,
      "metadata": {
        "id": "bQ9ODQVKz10v"
      },
      "outputs": [],
      "source": [
        "# TO IMPLEMENT\n",
        "# CLEANING \n",
        "# OUTLIERS \n",
        "# IMPUTERS \n",
        "# IMABALANCED DATASET HANDLING \n",
        "# TRANSFORMATION AND DATASET SKEWNESS CORRECTION\n",
        "# ORDINAL-ONE HOT ENCODERS\n",
        "# FEATURE MUTATIONS\n",
        "# FEATURE SELECTIONS AND FEATURE DROPPING "
      ]
    },
    {
      "cell_type": "code",
      "source": [
        "# CROSS VALIDATION \n",
        "# HYPERPARAMETER TUNING[GRIDSEARCH, RANDOMSEARCH]\n",
        "# INDIVIDUAL MODEL EVALUATION\n",
        "# MODEL ENSEMBLING/STACKING"
      ],
      "metadata": {
        "id": "nfXQepCN0VxH"
      },
      "execution_count": 3,
      "outputs": []
    },
    {
      "cell_type": "code",
      "source": [
        "# MODEL EVALUATION METRICS \n",
        "# MODEL EVALUATION VISUALIZATION "
      ],
      "metadata": {
        "id": "-SUndFAe1fSx"
      },
      "execution_count": 6,
      "outputs": []
    },
    {
      "cell_type": "code",
      "source": [
        "# MODEL PIPELINING \n",
        "# MODEL DEPLOYMENT\n",
        "# MODEL PREDICTION ON NEW OUT OF SET DATA "
      ],
      "metadata": {
        "id": "XlEZvnTk1sh4"
      },
      "execution_count": 5,
      "outputs": []
    }
  ]
}