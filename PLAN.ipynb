{
  "nbformat": 4,
  "nbformat_minor": 0,
  "metadata": {
    "colab": {
      "provenance": [],
      "authorship_tag": "ABX9TyPdRunRUtlHcNnMg/pR34oY",
      "include_colab_link": true
    },
    "kernelspec": {
      "name": "python3",
      "display_name": "Python 3"
    },
    "language_info": {
      "name": "python"
    }
  },
  "cells": [
    {
      "cell_type": "markdown",
      "metadata": {
        "id": "view-in-github",
        "colab_type": "text"
      },
      "source": [
        "<a href=\"https://colab.research.google.com/github/nnilayy/Classification-Notebook/blob/main/PLAN.ipynb\" target=\"_parent\"><img src=\"https://colab.research.google.com/assets/colab-badge.svg\" alt=\"Open In Colab\"/></a>"
      ]
    },
    {
      "cell_type": "code",
      "execution_count": 1,
      "metadata": {
        "id": "bQ9ODQVKz10v"
      },
      "outputs": [],
      "source": [
        "# TO IMPLEMENT\n",
        "# CLEANING \n",
        "# OUTLIERS \n",
        "# IMPUTERS \n",
        "# ORDINAL-ONE HOT ENCODERS\n",
        "# FEATURE MUTATIONS\n",
        "# FEATURE SELECTIONS AND FEATURE DROPPING "
      ]
    },
    {
      "cell_type": "code",
      "source": [],
      "metadata": {
        "id": "nfXQepCN0VxH"
      },
      "execution_count": null,
      "outputs": []
    }
  ]
}