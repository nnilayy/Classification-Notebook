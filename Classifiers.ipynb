{
  "nbformat": 4,
  "nbformat_minor": 0,
  "metadata": {
    "colab": {
      "provenance": [],
      "include_colab_link": true
    },
    "kernelspec": {
      "name": "python3",
      "display_name": "Python 3"
    },
    "language_info": {
      "name": "python"
    },
    "gpuClass": "standard"
  },
  "cells": [
    {
      "cell_type": "markdown",
      "metadata": {
        "id": "view-in-github",
        "colab_type": "text"
      },
      "source": [
        "<a href=\"https://colab.research.google.com/github/nnilayy/Classification-Notebook/blob/main/Classifiers.ipynb\" target=\"_parent\"><img src=\"https://colab.research.google.com/assets/colab-badge.svg\" alt=\"Open In Colab\"/></a>"
      ]
    },
    {
      "cell_type": "code",
      "execution_count": 19,
      "metadata": {
        "id": "QDVxBRbdpCQF"
      },
      "outputs": [],
      "source": [
        "import pandas as pd \n",
        "import numpy as np\n",
        "from matplotlib import pyplot as plt\n",
        "import seaborn as sns"
      ]
    },
    {
      "cell_type": "code",
      "source": [
        "# TO REMOVE WARNINGS USE THIS\n",
        "\n",
        "import warnings\n",
        "warnings.filterwarnings(\"ignore\")\n",
        "\n",
        "# OR USE THIS\n",
        "\n",
        "# import warnings\n",
        "# def fxn():\n",
        "#     warnings.warn(\"deprecated\", DeprecationWarning)\n",
        "\n",
        "# with warnings.catch_warnings():\n",
        "#     warnings.simplefilter(\"ignore\")\n",
        "#     fxn()"
      ],
      "metadata": {
        "id": "GHSOqCvKR_vC"
      },
      "execution_count": 20,
      "outputs": []
    },
    {
      "cell_type": "code",
      "source": [
        "df=pd.read_csv('/content/winequalityN.csv')"
      ],
      "metadata": {
        "id": "oHgBxjq2rMYy"
      },
      "execution_count": 232,
      "outputs": []
    },
    {
      "cell_type": "markdown",
      "source": [
        "ANALYSIS PORTION"
      ],
      "metadata": {
        "id": "jk0fRx8RmwUt"
      }
    },
    {
      "cell_type": "code",
      "source": [
        "df"
      ],
      "metadata": {
        "id": "FQkWyWdjRJq1"
      },
      "execution_count": null,
      "outputs": []
    },
    {
      "cell_type": "code",
      "source": [
        "# To get the idea of the Feature Samples(number of rows) and Feature Columns(number of columns)\n",
        "df.shape"
      ],
      "metadata": {
        "id": "t4TBrqUCmPNY"
      },
      "execution_count": null,
      "outputs": []
    },
    {
      "cell_type": "code",
      "source": [
        "# To check the number of classes in Y columns\n",
        "df[\"quality\"].unique()"
      ],
      "metadata": {
        "id": "EplIu8ewovIj"
      },
      "execution_count": null,
      "outputs": []
    },
    {
      "cell_type": "code",
      "source": [
        "# To check if the classes are balanced or not\n",
        "print(pd.DataFrame(df[\"quality\"].value_counts()))\n",
        "print(\"\\n\")\n",
        "print(\"The Count Plot for the same column is as follows: \\n\")\n",
        "sns.countplot(x=df[\"quality\"]);"
      ],
      "metadata": {
        "id": "Kj2dT5IcpWF8"
      },
      "execution_count": null,
      "outputs": []
    },
    {
      "cell_type": "code",
      "source": [
        "# To check for duplicate values in the DataFrame \n",
        "# The Following returns the number of samples which are duplicates\n",
        "# df.duplicated().value_counts()\n",
        "\n",
        "# This displays all the samples which are duplicated \n",
        "# df[df.duplicated()]\n",
        "\n",
        "# This displays all the unique samples\n",
        "# df[~df.duplicated()]\n",
        "\n",
        "# This removes all the duplicated samples\n",
        "df=df[~df.duplicated()]\n",
        "df = df.reset_index()\n",
        "df[\"type\"]=pd.get_dummies(df[\"type\"],drop_first=True)\n",
        "df=df.drop([\"index\"], axis=1)\n",
        "df"
      ],
      "metadata": {
        "id": "gxOrDRQolXle"
      },
      "execution_count": null,
      "outputs": []
    },
    {
      "cell_type": "code",
      "source": [
        "# To get the HeatMap for the DataFrame  \n",
        "sns.heatmap(df.corr());\n",
        "# Put \"annot=True\" to get the correlation value in each box\n",
        "#sns.heatmap(df.corr(),annot=True); "
      ],
      "metadata": {
        "id": "qknt5abcabM9"
      },
      "execution_count": null,
      "outputs": []
    },
    {
      "cell_type": "code",
      "source": [
        "# To get the bottom Non-Repeating half of the HeatMap\n",
        "corr= df.corr()\n",
        "matrix = np.triu(corr)\n",
        "sns.heatmap(corr, mask=matrix);"
      ],
      "metadata": {
        "id": "FV2PwNoyuVDL"
      },
      "execution_count": null,
      "outputs": []
    },
    {
      "cell_type": "markdown",
      "source": [
        "## Handling Missing Values"
      ],
      "metadata": {
        "id": "juPQIZCG19GK"
      }
    },
    {
      "cell_type": "code",
      "source": [
        "df.isnull()"
      ],
      "metadata": {
        "colab": {
          "base_uri": "https://localhost:8080/",
          "height": 522
        },
        "id": "Ia8Lklq50Z2U",
        "outputId": "225cd17e-a90c-4e71-826f-dcd801ae1f77"
      },
      "execution_count": 255,
      "outputs": [
        {
          "output_type": "execute_result",
          "data": {
            "text/plain": [
              "       type  fixed acidity  volatile acidity  citric acid  residual sugar  \\\n",
              "0     False          False             False        False           False   \n",
              "1     False          False             False        False           False   \n",
              "2     False          False             False        False           False   \n",
              "3     False          False             False        False           False   \n",
              "4     False          False             False        False           False   \n",
              "...     ...            ...               ...          ...             ...   \n",
              "5324  False          False             False        False           False   \n",
              "5325  False          False             False        False           False   \n",
              "5326  False          False             False        False           False   \n",
              "5327  False          False             False        False           False   \n",
              "5328  False          False             False        False           False   \n",
              "\n",
              "      chlorides  free sulfur dioxide  total sulfur dioxide  density     pH  \\\n",
              "0         False                False                 False    False  False   \n",
              "1         False                False                 False    False  False   \n",
              "2         False                False                 False    False  False   \n",
              "3         False                False                 False    False  False   \n",
              "4         False                False                 False    False  False   \n",
              "...         ...                  ...                   ...      ...    ...   \n",
              "5324      False                False                 False    False  False   \n",
              "5325      False                False                 False    False  False   \n",
              "5326      False                False                 False    False  False   \n",
              "5327      False                False                 False    False  False   \n",
              "5328      False                False                 False    False  False   \n",
              "\n",
              "      sulphates  alcohol  quality  \n",
              "0         False    False    False  \n",
              "1         False    False    False  \n",
              "2         False    False    False  \n",
              "3         False    False    False  \n",
              "4         False    False    False  \n",
              "...         ...      ...      ...  \n",
              "5324      False    False    False  \n",
              "5325      False    False    False  \n",
              "5326       True    False    False  \n",
              "5327      False    False    False  \n",
              "5328      False    False    False  \n",
              "\n",
              "[5329 rows x 13 columns]"
            ],
            "text/html": [
              "\n",
              "  <div id=\"df-0ab83cb5-6b84-464d-a576-1321ff93c70c\">\n",
              "    <div class=\"colab-df-container\">\n",
              "      <div>\n",
              "<style scoped>\n",
              "    .dataframe tbody tr th:only-of-type {\n",
              "        vertical-align: middle;\n",
              "    }\n",
              "\n",
              "    .dataframe tbody tr th {\n",
              "        vertical-align: top;\n",
              "    }\n",
              "\n",
              "    .dataframe thead th {\n",
              "        text-align: right;\n",
              "    }\n",
              "</style>\n",
              "<table border=\"1\" class=\"dataframe\">\n",
              "  <thead>\n",
              "    <tr style=\"text-align: right;\">\n",
              "      <th></th>\n",
              "      <th>type</th>\n",
              "      <th>fixed acidity</th>\n",
              "      <th>volatile acidity</th>\n",
              "      <th>citric acid</th>\n",
              "      <th>residual sugar</th>\n",
              "      <th>chlorides</th>\n",
              "      <th>free sulfur dioxide</th>\n",
              "      <th>total sulfur dioxide</th>\n",
              "      <th>density</th>\n",
              "      <th>pH</th>\n",
              "      <th>sulphates</th>\n",
              "      <th>alcohol</th>\n",
              "      <th>quality</th>\n",
              "    </tr>\n",
              "  </thead>\n",
              "  <tbody>\n",
              "    <tr>\n",
              "      <th>0</th>\n",
              "      <td>False</td>\n",
              "      <td>False</td>\n",
              "      <td>False</td>\n",
              "      <td>False</td>\n",
              "      <td>False</td>\n",
              "      <td>False</td>\n",
              "      <td>False</td>\n",
              "      <td>False</td>\n",
              "      <td>False</td>\n",
              "      <td>False</td>\n",
              "      <td>False</td>\n",
              "      <td>False</td>\n",
              "      <td>False</td>\n",
              "    </tr>\n",
              "    <tr>\n",
              "      <th>1</th>\n",
              "      <td>False</td>\n",
              "      <td>False</td>\n",
              "      <td>False</td>\n",
              "      <td>False</td>\n",
              "      <td>False</td>\n",
              "      <td>False</td>\n",
              "      <td>False</td>\n",
              "      <td>False</td>\n",
              "      <td>False</td>\n",
              "      <td>False</td>\n",
              "      <td>False</td>\n",
              "      <td>False</td>\n",
              "      <td>False</td>\n",
              "    </tr>\n",
              "    <tr>\n",
              "      <th>2</th>\n",
              "      <td>False</td>\n",
              "      <td>False</td>\n",
              "      <td>False</td>\n",
              "      <td>False</td>\n",
              "      <td>False</td>\n",
              "      <td>False</td>\n",
              "      <td>False</td>\n",
              "      <td>False</td>\n",
              "      <td>False</td>\n",
              "      <td>False</td>\n",
              "      <td>False</td>\n",
              "      <td>False</td>\n",
              "      <td>False</td>\n",
              "    </tr>\n",
              "    <tr>\n",
              "      <th>3</th>\n",
              "      <td>False</td>\n",
              "      <td>False</td>\n",
              "      <td>False</td>\n",
              "      <td>False</td>\n",
              "      <td>False</td>\n",
              "      <td>False</td>\n",
              "      <td>False</td>\n",
              "      <td>False</td>\n",
              "      <td>False</td>\n",
              "      <td>False</td>\n",
              "      <td>False</td>\n",
              "      <td>False</td>\n",
              "      <td>False</td>\n",
              "    </tr>\n",
              "    <tr>\n",
              "      <th>4</th>\n",
              "      <td>False</td>\n",
              "      <td>False</td>\n",
              "      <td>False</td>\n",
              "      <td>False</td>\n",
              "      <td>False</td>\n",
              "      <td>False</td>\n",
              "      <td>False</td>\n",
              "      <td>False</td>\n",
              "      <td>False</td>\n",
              "      <td>False</td>\n",
              "      <td>False</td>\n",
              "      <td>False</td>\n",
              "      <td>False</td>\n",
              "    </tr>\n",
              "    <tr>\n",
              "      <th>...</th>\n",
              "      <td>...</td>\n",
              "      <td>...</td>\n",
              "      <td>...</td>\n",
              "      <td>...</td>\n",
              "      <td>...</td>\n",
              "      <td>...</td>\n",
              "      <td>...</td>\n",
              "      <td>...</td>\n",
              "      <td>...</td>\n",
              "      <td>...</td>\n",
              "      <td>...</td>\n",
              "      <td>...</td>\n",
              "      <td>...</td>\n",
              "    </tr>\n",
              "    <tr>\n",
              "      <th>5324</th>\n",
              "      <td>False</td>\n",
              "      <td>False</td>\n",
              "      <td>False</td>\n",
              "      <td>False</td>\n",
              "      <td>False</td>\n",
              "      <td>False</td>\n",
              "      <td>False</td>\n",
              "      <td>False</td>\n",
              "      <td>False</td>\n",
              "      <td>False</td>\n",
              "      <td>False</td>\n",
              "      <td>False</td>\n",
              "      <td>False</td>\n",
              "    </tr>\n",
              "    <tr>\n",
              "      <th>5325</th>\n",
              "      <td>False</td>\n",
              "      <td>False</td>\n",
              "      <td>False</td>\n",
              "      <td>False</td>\n",
              "      <td>False</td>\n",
              "      <td>False</td>\n",
              "      <td>False</td>\n",
              "      <td>False</td>\n",
              "      <td>False</td>\n",
              "      <td>False</td>\n",
              "      <td>False</td>\n",
              "      <td>False</td>\n",
              "      <td>False</td>\n",
              "    </tr>\n",
              "    <tr>\n",
              "      <th>5326</th>\n",
              "      <td>False</td>\n",
              "      <td>False</td>\n",
              "      <td>False</td>\n",
              "      <td>False</td>\n",
              "      <td>False</td>\n",
              "      <td>False</td>\n",
              "      <td>False</td>\n",
              "      <td>False</td>\n",
              "      <td>False</td>\n",
              "      <td>False</td>\n",
              "      <td>True</td>\n",
              "      <td>False</td>\n",
              "      <td>False</td>\n",
              "    </tr>\n",
              "    <tr>\n",
              "      <th>5327</th>\n",
              "      <td>False</td>\n",
              "      <td>False</td>\n",
              "      <td>False</td>\n",
              "      <td>False</td>\n",
              "      <td>False</td>\n",
              "      <td>False</td>\n",
              "      <td>False</td>\n",
              "      <td>False</td>\n",
              "      <td>False</td>\n",
              "      <td>False</td>\n",
              "      <td>False</td>\n",
              "      <td>False</td>\n",
              "      <td>False</td>\n",
              "    </tr>\n",
              "    <tr>\n",
              "      <th>5328</th>\n",
              "      <td>False</td>\n",
              "      <td>False</td>\n",
              "      <td>False</td>\n",
              "      <td>False</td>\n",
              "      <td>False</td>\n",
              "      <td>False</td>\n",
              "      <td>False</td>\n",
              "      <td>False</td>\n",
              "      <td>False</td>\n",
              "      <td>False</td>\n",
              "      <td>False</td>\n",
              "      <td>False</td>\n",
              "      <td>False</td>\n",
              "    </tr>\n",
              "  </tbody>\n",
              "</table>\n",
              "<p>5329 rows × 13 columns</p>\n",
              "</div>\n",
              "      <button class=\"colab-df-convert\" onclick=\"convertToInteractive('df-0ab83cb5-6b84-464d-a576-1321ff93c70c')\"\n",
              "              title=\"Convert this dataframe to an interactive table.\"\n",
              "              style=\"display:none;\">\n",
              "        \n",
              "  <svg xmlns=\"http://www.w3.org/2000/svg\" height=\"24px\"viewBox=\"0 0 24 24\"\n",
              "       width=\"24px\">\n",
              "    <path d=\"M0 0h24v24H0V0z\" fill=\"none\"/>\n",
              "    <path d=\"M18.56 5.44l.94 2.06.94-2.06 2.06-.94-2.06-.94-.94-2.06-.94 2.06-2.06.94zm-11 1L8.5 8.5l.94-2.06 2.06-.94-2.06-.94L8.5 2.5l-.94 2.06-2.06.94zm10 10l.94 2.06.94-2.06 2.06-.94-2.06-.94-.94-2.06-.94 2.06-2.06.94z\"/><path d=\"M17.41 7.96l-1.37-1.37c-.4-.4-.92-.59-1.43-.59-.52 0-1.04.2-1.43.59L10.3 9.45l-7.72 7.72c-.78.78-.78 2.05 0 2.83L4 21.41c.39.39.9.59 1.41.59.51 0 1.02-.2 1.41-.59l7.78-7.78 2.81-2.81c.8-.78.8-2.07 0-2.86zM5.41 20L4 18.59l7.72-7.72 1.47 1.35L5.41 20z\"/>\n",
              "  </svg>\n",
              "      </button>\n",
              "      \n",
              "  <style>\n",
              "    .colab-df-container {\n",
              "      display:flex;\n",
              "      flex-wrap:wrap;\n",
              "      gap: 12px;\n",
              "    }\n",
              "\n",
              "    .colab-df-convert {\n",
              "      background-color: #E8F0FE;\n",
              "      border: none;\n",
              "      border-radius: 50%;\n",
              "      cursor: pointer;\n",
              "      display: none;\n",
              "      fill: #1967D2;\n",
              "      height: 32px;\n",
              "      padding: 0 0 0 0;\n",
              "      width: 32px;\n",
              "    }\n",
              "\n",
              "    .colab-df-convert:hover {\n",
              "      background-color: #E2EBFA;\n",
              "      box-shadow: 0px 1px 2px rgba(60, 64, 67, 0.3), 0px 1px 3px 1px rgba(60, 64, 67, 0.15);\n",
              "      fill: #174EA6;\n",
              "    }\n",
              "\n",
              "    [theme=dark] .colab-df-convert {\n",
              "      background-color: #3B4455;\n",
              "      fill: #D2E3FC;\n",
              "    }\n",
              "\n",
              "    [theme=dark] .colab-df-convert:hover {\n",
              "      background-color: #434B5C;\n",
              "      box-shadow: 0px 1px 3px 1px rgba(0, 0, 0, 0.15);\n",
              "      filter: drop-shadow(0px 1px 2px rgba(0, 0, 0, 0.3));\n",
              "      fill: #FFFFFF;\n",
              "    }\n",
              "  </style>\n",
              "\n",
              "      <script>\n",
              "        const buttonEl =\n",
              "          document.querySelector('#df-0ab83cb5-6b84-464d-a576-1321ff93c70c button.colab-df-convert');\n",
              "        buttonEl.style.display =\n",
              "          google.colab.kernel.accessAllowed ? 'block' : 'none';\n",
              "\n",
              "        async function convertToInteractive(key) {\n",
              "          const element = document.querySelector('#df-0ab83cb5-6b84-464d-a576-1321ff93c70c');\n",
              "          const dataTable =\n",
              "            await google.colab.kernel.invokeFunction('convertToInteractive',\n",
              "                                                     [key], {});\n",
              "          if (!dataTable) return;\n",
              "\n",
              "          const docLinkHtml = 'Like what you see? Visit the ' +\n",
              "            '<a target=\"_blank\" href=https://colab.research.google.com/notebooks/data_table.ipynb>data table notebook</a>'\n",
              "            + ' to learn more about interactive tables.';\n",
              "          element.innerHTML = '';\n",
              "          dataTable['output_type'] = 'display_data';\n",
              "          await google.colab.output.renderOutput(dataTable, element);\n",
              "          const docLink = document.createElement('div');\n",
              "          docLink.innerHTML = docLinkHtml;\n",
              "          element.appendChild(docLink);\n",
              "        }\n",
              "      </script>\n",
              "    </div>\n",
              "  </div>\n",
              "  "
            ]
          },
          "metadata": {},
          "execution_count": 255
        }
      ]
    },
    {
      "cell_type": "code",
      "source": [
        "df=df.dropna()\n",
        "df"
      ],
      "metadata": {
        "id": "ufPCnbHh2-EO"
      },
      "execution_count": null,
      "outputs": []
    },
    {
      "cell_type": "markdown",
      "source": [
        "## SPLITTING DATA INTO TRAIN AND TEST\n"
      ],
      "metadata": {
        "id": "vAr4qm6i0TNU"
      }
    },
    {
      "cell_type": "code",
      "source": [
        "X=df.drop(['quality'],axis=1)\n",
        "y=df['quality']"
      ],
      "metadata": {
        "id": "Tt3JpxZC1tD6"
      },
      "execution_count": 269,
      "outputs": []
    },
    {
      "cell_type": "code",
      "source": [
        "# OverSampling To create artificially more samples of a class in a column\n",
        "from imblearn.over_sampling import SMOTE, BorderlineSMOTE\n",
        "# from imblearn.over_sampling import ADASYN \n",
        "os=SMOTE(k_neighbors=1)\n",
        "# ada = ADASYN(sampling_strategy='minority', n_neighbors=9)\n",
        "# X_res, y_res = ada.fit_resample(X, y)\n",
        "\n",
        "os=BorderlineSMOTE(k_neighbors=1)\n",
        "X_res,y_res=os.fit_resample(X,y)"
      ],
      "metadata": {
        "id": "snZWoSXYqJDB"
      },
      "execution_count": 270,
      "outputs": []
    },
    {
      "cell_type": "code",
      "source": [
        "from sklearn.model_selection import train_test_split\n",
        "X_train, X_test, y_train, y_test = train_test_split(X_res,y_res, test_size=0.3, random_state=101)"
      ],
      "metadata": {
        "id": "IPs83zJA8VKx"
      },
      "execution_count": 271,
      "outputs": []
    },
    {
      "cell_type": "code",
      "source": [
        "from sklearn.preprocessing import StandardScaler\n",
        "scaler = StandardScaler()\n",
        "X_train = scaler.fit_transform(X_train)\n",
        "X_test = scaler.transform(X_test)"
      ],
      "metadata": {
        "id": "XkdEh6Rx8nAb"
      },
      "execution_count": 272,
      "outputs": []
    },
    {
      "cell_type": "code",
      "source": [
        "from sklearn.ensemble import GradientBoostingClassifier\n",
        "from sklearn.ensemble import RandomForestClassifier \n",
        "from sklearn.ensemble import AdaBoostClassifier\n",
        "from sklearn.ensemble import ExtraTreesClassifier\n",
        "from sklearn.ensemble import HistGradientBoostingClassifier\n",
        "from sklearn.ensemble import BaggingClassifier\n",
        "from sklearn.ensemble import VotingClassifier\n",
        "from sklearn.linear_model import LogisticRegression \n",
        "from sklearn.linear_model import RidgeClassifier\n",
        "from sklearn.discriminant_analysis import LinearDiscriminantAnalysis\n",
        "from sklearn.discriminant_analysis import QuadraticDiscriminantAnalysis\n",
        "from sklearn.neighbors import KNeighborsClassifier\n",
        "from sklearn.naive_bayes import GaussianNB\n",
        "from sklearn.neural_network import MLPClassifier\n",
        "from sklearn.tree import DecisionTreeClassifier\n",
        "from sklearn.svm import SVC, LinearSVC, NuSVC\n",
        "from sklearn.gaussian_process import GaussianProcessClassifier\n",
        "from xgboost import XGBClassifier \n",
        "from sklearn.metrics import classification_report, accuracy_score\n",
        "from sklearn.neighbors import RadiusNeighborsClassifier\n",
        "from sklearn.linear_model import SGDClassifier\n",
        "from sklearn.semi_supervised import LabelPropagation\n",
        "# GaussianProcessClassifier takes the longest time\n",
        "from lightgbm import LGBMClassifier\n",
        "\n",
        "# LGBMClassifier(objective='multiclass', random_state=5)\n",
        "models=[\n",
        "    ExtraTreesClassifier, RandomForestClassifier, HistGradientBoostingClassifier, \n",
        "    BaggingClassifier, GradientBoostingClassifier, XGBClassifier\n",
        "    ,DecisionTreeClassifier, SVC, \n",
        "    MLPClassifier, LinearSVC, KNeighborsClassifier, \n",
        "    RidgeClassifier, LogisticRegression, LinearDiscriminantAnalysis, \n",
        "    AdaBoostClassifier, QuadraticDiscriminantAnalysis, GaussianNB,\n",
        "    SGDClassifier, LabelPropagation,LGBMClassifier\n",
        "]\n",
        "\n",
        "accuracy = []\n",
        "for model in models:\n",
        "  m=model()\n",
        "  m.fit(X_train,y_train) \n",
        "  y_test_pred = m.predict(X_test)\n",
        "  accuracy.append(accuracy_score(y_test, y_test_pred)*100)\n",
        "  print('------------------------------------------------------------------------------------------------------------')\n",
        "  print('------------------------------------------------------------------------------------------------------------') \n",
        "  print(model.__name__)\n",
        "  print(classification_report(y_test, y_test_pred)) \n",
        "# Extracting the model name from the models\n",
        "model_names=[]\n",
        "for model in models:\n",
        "  model_names.append(model.__name__)\n",
        "\n",
        "# Combining the Model Name and Accuracy in a dataframe\n",
        "# Here Model_Names and Accuracy Both are lists\n",
        "# acc=pd.DataFrame(list(zip(model_names,accuracy)),columns=['Name','Accuracy'])\n",
        "acc=pd.DataFrame({'Name':model_names, 'Accuracy':accuracy})\n",
        "\n",
        "# Arranging the dataframe by the models with the highest accuracy to lowest accuracy\n",
        "acc=acc.sort_values(by='Accuracy',ascending=False).reset_index(drop=True)\n",
        "acc.index = acc.index + 1\n",
        "acc"
      ],
      "metadata": {
        "id": "v6R9hOxe8wWE"
      },
      "execution_count": null,
      "outputs": []
    },
    {
      "cell_type": "code",
      "source": [
        "# Plotting the Accuracy of Different Models\n",
        "fig=plt.figure(figsize=(20,30))\n",
        "fig.set_size_inches(40,40)\n",
        "acc.plot(kind ='bar',x=\"Name\",y='Accuracy')\n",
        "plt.xlabel('Model Name')\n",
        "plt.ylabel('Accuray Percentage %')\n",
        "plt.xticks(rotation=82);\n",
        "plt.show()"
      ],
      "metadata": {
        "id": "KYODC6PG9DYB",
        "colab": {
          "base_uri": "https://localhost:8080/",
          "height": 419
        },
        "outputId": "6764aeec-041c-45b6-b774-121afebb9155"
      },
      "execution_count": 275,
      "outputs": [
        {
          "output_type": "display_data",
          "data": {
            "text/plain": [
              "<Figure size 2880x2880 with 0 Axes>"
            ]
          },
          "metadata": {}
        },
        {
          "output_type": "display_data",
          "data": {
            "text/plain": [
              "<Figure size 432x288 with 1 Axes>"
            ],
            "image/png": "[encoded data removed]"
          },
          "metadata": {}
        }
      ]
    },
    {
      "cell_type": "code",
      "source": [
        "# from sklearn.metrics import mean_absolute_error, mean_squared_error\n",
        "# mae = mean_absolute_error(y_test, y_test_pred)\n",
        "# mse = mean_squ ared_error(y_test, y_test_pred)\n",
        "# rmse = np.sqrt(mse)\n"
      ],
      "metadata": {
        "id": "TceQsKWp3T0x"
      },
      "execution_count": null,
      "outputs": []
    },
    {
      "cell_type": "code",
      "source": [
        "# PAIR PLOT \n",
        "\n",
        "# fig=plt.figure(figsize=(20,30))\n",
        "# fig.set_size_inches(8,8)\n",
        "# plt.style.use('seaborn-darkgrid')\n",
        "# sns.pairplot(df, hue='quality')"
      ],
      "metadata": {
        "id": "DGEoobGDn9KE"
      },
      "execution_count": null,
      "outputs": []
    },
    {
      "cell_type": "code",
      "source": [
        "# df.columns \n",
        "# df.columns.values\n",
        "# df.columns.values.tolist()\n",
        "# pd.DataFrame(df.columns)"
      ],
      "metadata": {
        "id": "GsnnBnSFhg-_"
      },
      "execution_count": null,
      "outputs": []
    },
    {
      "cell_type": "code",
      "source": [
        "# Converting Numeric Column with repeating value to string to get a scatter plot\n",
        "# plt.scatter(df['Year'].astype(str),y)\n",
        "# print(sns.scatterplot(x=df['State_Name'],y=y))\n",
        "# plt.figure(figsize=(15,10),dpi=300)\n",
        "# plt.xticks(rotation=90)\n",
        "# plt.line(x=df['sulphates'],y=df['quality'])\n",
        "# plt.scatter(x=df['chlorides'],y=df['quality'])\n",
        "# sns.lineplot(x=df['sulphates'],y=df['quality'])\n",
        "# plt.show()"
      ],
      "metadata": {
        "id": "2-sCeULfhix1"
      },
      "execution_count": null,
      "outputs": []
    },
    {
      "cell_type": "code",
      "source": [
        "# df['quality'].unique() \n",
        "# df.corr()\n",
        "\n",
        "# # Returns the columns with just numeric columns\n",
        "# df.select_dtypes(include=['number'])\n",
        "# g=sns.PairGrid(df)\n",
        "# g.map(plt.scatter)\n",
        "# # Balanced Dataset or not"
      ],
      "metadata": {
        "id": "8SfAh6O7lnaj"
      },
      "execution_count": null,
      "outputs": []
    },
    {
      "cell_type": "code",
      "source": [
        "# Plotting the Accuracy of Different Models\n",
        "# fig=plt.figure(figsize=(20,30))\n",
        "# fig.set_size_inches(40,40)\n",
        "# acc.plot(kind ='bar',x=\"Name\",y='Accuracy')\n",
        "# plt.xlabel('Model Name')\n",
        "# plt.ylabel('Accuray Percentage %')\n",
        "# plt.xticks(rotation=82);\n",
        "# plt.show()"
      ],
      "metadata": {
        "id": "xVfvIdFjI831"
      },
      "execution_count": null,
      "outputs": []
    },
    {
      "cell_type": "code",
      "source": [
        "# df.info()\n",
        "# df['quality'].plot(kind='kde')\n",
        "# fig = plt.gcf()\n",
        "# fig.set_size_inches(15, 10)\n",
        "# df=df[df['total sulfur dioxide']<155]\n",
        "# sns.scatterplot(x=df['total sulfur dioxide'],y=df['quality'],c=df['quality'],alpha=0.5)\n",
        "# plt.legend()"
      ],
      "metadata": {
        "id": "_yZjzsDNjY97"
      },
      "execution_count": null,
      "outputs": []
    },
    {
      "cell_type": "code",
      "source": [
        "# How to Drop Multiple rows\n",
        "# Find the rows, \n",
        "# Save them, \n",
        "# Drop them using their index\n",
        "# dr=df[(df['total sulfur dioxide']>100) & (df['quality']==4)]\n",
        "# df=df.drop(dr.index,axis=0)"
      ],
      "metadata": {
        "id": "ysvVpO_4vgKf"
      },
      "execution_count": null,
      "outputs": []
    },
    {
      "cell_type": "code",
      "source": [
        "# plt.style.use('seaborn-whitegrid')\n",
        "# plt.style.use('dark_background')\n",
        "# _, axes = plt.subplots(4, 3, figsize=(25,25))\n",
        "# for (((x,y),value), column) in zip(np.ndenumerate(axes),columns):\n",
        "#   sns.boxplot(y=df[column], x=df['quality'],ax=axes[x][y])"
      ],
      "metadata": {
        "id": "O4Ebj-GBxH_z"
      },
      "execution_count": null,
      "outputs": []
    },
    {
      "cell_type": "code",
      "source": [
        "# def get_redundant_pairs(df):\n",
        "#     '''Get diagonal and lower triangular pairs of correlation matrix'''\n",
        "#     pairs_to_drop = set()\n",
        "#     cols = df.columns\n",
        "#     for i in range(0, df.shape[1]):\n",
        "#         for j in range(0, i+1):\n",
        "#             pairs_to_drop.add((cols[i], cols[j]))\n",
        "#     return pairs_to_drop\n",
        "\n",
        "# def get_top_abs_correlations(df, n=5):\n",
        "#     au_corr = df.corr().abs().unstack()\n",
        "#     labels_to_drop = get_redundant_pairs(df)\n",
        "#     au_corr = au_corr.drop(labels=labels_to_drop).sort_values(ascending=False)\n",
        "#     return au_corr[0:n]\n",
        "\n",
        "# print(\"Top Absolute Correlations\")\n",
        "# pd.DataFrame(get_top_abs_correlations(df, 10))"
      ],
      "metadata": {
        "id": "ZV-GDTg7NYb_"
      },
      "execution_count": null,
      "outputs": []
    },
    {
      "cell_type": "code",
      "source": [
        "# sns.scatterplot\n",
        "# sns.pairplot \n",
        "# sns.barplot \n",
        "# sns.boxplot \n",
        "# sns.countplot"
      ],
      "metadata": {
        "id": "kqDZvvxajO2K"
      },
      "execution_count": null,
      "outputs": []
    },
    {
      "cell_type": "code",
      "source": [
        "# column=df['quality']\n",
        "# q3=column.quantile(0.75)\n",
        "# q1=column.quantile(0.25)\n",
        "# iqr=q3-q1\n",
        "# lb=q1-1*iqr\n",
        "# ub=q3+1*iqr\n",
        "# filter = (column>=lb) & (column<=ub)\n",
        "# df=df[filter]\n",
        "# sns.boxplot(y=column)\n",
        "# plt.show()"
      ],
      "metadata": {
        "id": "7Y5DPdgB9R9j"
      },
      "execution_count": null,
      "outputs": []
    },
    {
      "cell_type": "code",
      "source": [
        "# columns=df.columns\n",
        "# plt.style.use('seaborn-darkgrid')\n",
        "# _, axes = plt.subplots(4, 3, figsize=(25,25))\n",
        "# for (((x,y),value), column) in zip(np.ndenumerate(axes),columns):\n",
        "#   sns.boxplot(data=df,y=df[column], x=df['quality'], ax=axes[x][y])"
      ],
      "metadata": {
        "id": "qhc3Ji3J3D9D"
      },
      "execution_count": null,
      "outputs": []
    },
    {
      "cell_type": "code",
      "source": [
        "# Look for Categorgical Columns "
      ],
      "metadata": {
        "id": "zVIhQfwgv4K6"
      },
      "execution_count": null,
      "outputs": []
    }
  ]
}