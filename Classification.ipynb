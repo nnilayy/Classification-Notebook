{
  "cells": [
    {
      "cell_type": "markdown",
      "metadata": {
        "id": "view-in-github",
        "colab_type": "text"
      },
      "source": [
        "<a href=\"https://colab.research.google.com/github/nnilayy/Classification-Notebook/blob/main/Classification.ipynb\" target=\"_parent\"><img src=\"https://colab.research.google.com/assets/colab-badge.svg\" alt=\"Open In Colab\"/></a>"
      ]
    },
    {
      "cell_type": "code",
      "execution_count": null,
      "metadata": {
        "id": "Faz4TOq7w8aW"
      },
      "outputs": [],
      "source": [
        "from tensorflow.keras.preprocessing.image import ImageDataGenerator\n",
        "import matplotlib.pyplot as plt\n",
        "import tensorflow as tf\n",
        "import numpy as np\n",
        "import cv2\n",
        "import os"
      ]
    },
    {
      "cell_type": "code",
      "execution_count": null,
      "metadata": {
        "id": "J8-H0S62QVHQ",
        "colab": {
          "base_uri": "https://localhost:8080/"
        },
        "outputId": "df452b8a-58c5-4315-f9ed-84fa8597cbe7"
      },
      "outputs": [
        {
          "output_type": "stream",
          "name": "stdout",
          "text": [
            "Mounted at /content/drive\n"
          ]
        }
      ],
      "source": [
        "from google.colab import drive\n",
        "drive.mount('/content/drive')"
      ]
    },
    {
      "cell_type": "markdown",
      "source": [
        "## Model Size\n"
      ],
      "metadata": {
        "id": "wmPkfImMe6pd"
      }
    },
    {
      "cell_type": "code",
      "execution_count": null,
      "metadata": {
        "id": "ZOy4Qb1rQvsK"
      },
      "outputs": [],
      "source": [
        "!mkdir \"/content/drive/MyDrive/dataset\""
      ]
    },
    {
      "cell_type": "code",
      "execution_count": null,
      "metadata": {
        "id": "5AORMhrHhkc7"
      },
      "outputs": [],
      "source": [
        "!unzip -q /content/drive/MyDrive/dataset.zip -d /content/drive/MyDrive/"
      ]
    },
    {
      "cell_type": "code",
      "source": [
        "IMAGE_SIZE=128"
      ],
      "metadata": {
        "id": "I5QOkbbRe89U"
      },
      "execution_count": null,
      "outputs": []
    },
    {
      "cell_type": "code",
      "execution_count": null,
      "metadata": {
        "id": "8isyhdy9wNzg"
      },
      "outputs": [],
      "source": [
        "train=ImageDataGenerator(\n",
        "                        # rescale=1/255,\n",
        "                         rotation_range=90,\n",
        "                         brightness_range=(0,1.5),\n",
        "                         zoom_range=0.2,\n",
        "                        #  shear_range=0.2,\n",
        "                         horizontal_flip=True,\n",
        "                         vertical_flip=True,\n",
        "                         fill_mode=\"nearest\",\n",
        "                         )\n",
        "valid=ImageDataGenerator(\n",
        "                              # rescale=1/255,\n",
        "                              rotation_range=90,\n",
        "                              brightness_range=(0,1.5),\n",
        "                              zoom_range=0.2,\n",
        "                              # shear_range=0.2,\n",
        "                              horizontal_flip=True,\n",
        "                              vertical_flip=True,\n",
        "                              fill_mode=\"nearest\",)"
      ]
    },
    {
      "cell_type": "code",
      "execution_count": null,
      "metadata": {
        "id": "_5KWdWhyx8PH",
        "colab": {
          "base_uri": "https://localhost:8080/"
        },
        "outputId": "3b72c6f2-2f03-49c0-dcfc-df9ac15630a7"
      },
      "outputs": [
        {
          "output_type": "stream",
          "name": "stdout",
          "text": [
            "Found 301 images belonging to 2 classes.\n",
            "Found 90 images belonging to 2 classes.\n"
          ]
        }
      ],
      "source": [
        "train_dataset=train.flow_from_directory('/content/drive/MyDrive/dataset_3/train',\n",
        "                                        target_size=(IMAGE_SIZE,IMAGE_SIZE),\n",
        "                                        batch_size=5,\n",
        "                                        class_mode='categorical',\n",
        "                                        color_mode='grayscale',\n",
        "                                        )\n",
        "val_dataset=valid.flow_from_directory('/content/drive/MyDrive/dataset_3/validation',\n",
        "                                        target_size=(IMAGE_SIZE,IMAGE_SIZE),\n",
        "                                        batch_size=5,\n",
        "                                        class_mode='categorical',\n",
        "                                        color_mode='grayscale'\n",
        "                                        )"
      ]
    },
    {
      "cell_type": "code",
      "source": [
        "val_dataset.class_indices"
      ],
      "metadata": {
        "colab": {
          "base_uri": "https://localhost:8080/"
        },
        "id": "6Ey9gH3etupz",
        "outputId": "a09d7c18-0ce4-46c3-a1e1-36863193a22a"
      },
      "execution_count": null,
      "outputs": [
        {
          "output_type": "execute_result",
          "data": {
            "text/plain": [
              "{'Cracked': 0, 'Not Cracked': 1}"
            ]
          },
          "metadata": {},
          "execution_count": 6
        }
      ]
    },
    {
      "cell_type": "code",
      "execution_count": null,
      "metadata": {
        "id": "uOzuv6LKiGkI",
        "colab": {
          "base_uri": "https://localhost:8080/"
        },
        "outputId": "1d6eab50-0bac-411f-8fb9-4bd38fff8c5d"
      },
      "outputs": [
        {
          "output_type": "stream",
          "name": "stdout",
          "text": [
            "Model: \"sequential_4\"\n",
            "_________________________________________________________________\n",
            " Layer (type)                Output Shape              Param #   \n",
            "=================================================================\n",
            " conv2d_24 (Conv2D)          (None, 128, 128, 16)      272       \n",
            "                                                                 \n",
            " conv2d_25 (Conv2D)          (None, 128, 128, 16)      4112      \n",
            "                                                                 \n",
            " average_pooling2d_12 (Avera  (None, 64, 64, 16)       0         \n",
            " gePooling2D)                                                    \n",
            "                                                                 \n",
            " conv2d_26 (Conv2D)          (None, 64, 64, 8)         1160      \n",
            "                                                                 \n",
            " conv2d_27 (Conv2D)          (None, 64, 64, 8)         584       \n",
            "                                                                 \n",
            " average_pooling2d_13 (Avera  (None, 32, 32, 8)        0         \n",
            " gePooling2D)                                                    \n",
            "                                                                 \n",
            " conv2d_28 (Conv2D)          (None, 32, 32, 8)         1032      \n",
            "                                                                 \n",
            " conv2d_29 (Conv2D)          (None, 32, 32, 8)         1032      \n",
            "                                                                 \n",
            " average_pooling2d_14 (Avera  (None, 16, 16, 8)        0         \n",
            " gePooling2D)                                                    \n",
            "                                                                 \n",
            " flatten_4 (Flatten)         (None, 2048)              0         \n",
            "                                                                 \n",
            " dense_4 (Dense)             (None, 2)                 4098      \n",
            "                                                                 \n",
            "=================================================================\n",
            "Total params: 12,290\n",
            "Trainable params: 12,290\n",
            "Non-trainable params: 0\n",
            "_________________________________________________________________\n"
          ]
        }
      ],
      "source": [
        "from tensorflow.keras.models import Sequential\n",
        "from tensorflow.keras.layers import Dense, Conv2D, MaxPooling2D, AveragePooling2D, Flatten, Dropout, BatchNormalization, InputLayer, Reshape\n",
        "\n",
        "model = Sequential()\n",
        "# model.add(InputLayer((IMAGE_SIZE, IMAGE_SIZE, 1)))\n",
        "# model.add(Conv2D(16, 4, padding='same', activation=tf.keras.layers.LeakyReLU()))\n",
        "# model.add(Conv2D(16, 4, padding='same', activation=tf.keras.layers.LeakyReLU()))\n",
        "# model.add(AveragePooling2D(2, padding='same'))\n",
        "# model.add(Conv2D(8, 3, padding='same', activation=tf.keras.layers.LeakyReLU()))\n",
        "# model.add(Conv2D(8, 3, padding='same', activation=tf.keras.layers.LeakyReLU()))\n",
        "# model.add(AveragePooling2D(2, padding='same'))\n",
        "# model.add(Conv2D(8, 4, padding='same', activation=tf.keras.layers.LeakyReLU()))\n",
        "# model.add(Conv2D(8, 4, padding='same', activation=tf.keras.layers.LeakyReLU()))\n",
        "# model.add(AveragePooling2D(2, padding='same'))\n",
        "# model.add(Flatten())\n",
        "model.add(Dense(2, activation=\"softmax\"))\n",
        "model.summary()\n",
        "\n",
        "\n",
        "# ---------------------------------------------------------------------------------------------------\n",
        "# ---------------------------------------------------------------------------------------------------\n",
        "# (1)Params: 32,000\n",
        "# (2)Train_Accuracy: 85.45\n",
        "# (3)Val_Accuracy: 84.44\n",
        "# model = Sequential()\n",
        "# model.add(InputLayer(input_shape=(224, 224,3)))\n",
        "# model.add(Conv2D(16, 3, padding='same', activation=\"relu\"))\n",
        "# model.add(MaxPooling2D(2, padding='same'))\n",
        "# model.add(Conv2D(16, 3, padding='same', activation=\"relu\"))\n",
        "# model.add(MaxPooling2D(2, padding='same'))\n",
        "# model.add(Conv2D(16, 3, padding='same', activation=\"relu\"))\n",
        "# model.add(MaxPooling2D(2, padding='same'))\n",
        "# model.add(MaxPooling2D(2, padding='same'))\n",
        "# model.add(MaxPooling2D(2, padding='same'))\n",
        "# model.add(Flatten())\n",
        "# model.add(Dense(32, activation=\"relu\"))\n",
        "# model.add(Dense(1, activation=\"sigmoid\"))"
      ]
    },
    {
      "cell_type": "code",
      "execution_count": null,
      "metadata": {
        "id": "PYcT2fHW77gx",
        "colab": {
          "base_uri": "https://localhost:8080/"
        },
        "outputId": "6447840f-8de5-4fca-ccd0-09d2c1edba51"
      },
      "outputs": [
        {
          "output_type": "stream",
          "name": "stdout",
          "text": [
            "Epoch 1/50\n",
            "61/61 [==============================] - 5s 36ms/step - loss: 0.3242 - accuracy: 0.9103 - val_loss: 0.0892 - val_accuracy: 0.9778\n",
            "Epoch 2/50\n",
            "61/61 [==============================] - 3s 44ms/step - loss: 0.3073 - accuracy: 0.9103 - val_loss: 0.3423 - val_accuracy: 0.8889\n",
            "Epoch 3/50\n",
            "61/61 [==============================] - 2s 34ms/step - loss: 0.2717 - accuracy: 0.9136 - val_loss: 0.1022 - val_accuracy: 0.9778\n",
            "Epoch 4/50\n",
            "61/61 [==============================] - 3s 50ms/step - loss: 0.3388 - accuracy: 0.9003 - val_loss: 0.1676 - val_accuracy: 0.9444\n",
            "Epoch 5/50\n",
            "61/61 [==============================] - 2s 34ms/step - loss: 0.2913 - accuracy: 0.9070 - val_loss: 0.1501 - val_accuracy: 0.9333\n",
            "Epoch 6/50\n",
            "61/61 [==============================] - 2s 33ms/step - loss: 0.2446 - accuracy: 0.8870 - val_loss: 0.1596 - val_accuracy: 0.9667\n",
            "Epoch 7/50\n",
            "61/61 [==============================] - 2s 34ms/step - loss: 0.2733 - accuracy: 0.9037 - val_loss: 0.2897 - val_accuracy: 0.9444\n",
            "Epoch 8/50\n",
            "61/61 [==============================] - 3s 46ms/step - loss: 0.3372 - accuracy: 0.9070 - val_loss: 0.2022 - val_accuracy: 0.9111\n",
            "Epoch 9/50\n",
            "61/61 [==============================] - 2s 34ms/step - loss: 0.3137 - accuracy: 0.8937 - val_loss: 0.1613 - val_accuracy: 0.9222\n",
            "Epoch 10/50\n",
            "61/61 [==============================] - 2s 37ms/step - loss: 0.2798 - accuracy: 0.9103 - val_loss: 0.1640 - val_accuracy: 0.9333\n",
            "Epoch 11/50\n",
            "61/61 [==============================] - 2s 33ms/step - loss: 0.2460 - accuracy: 0.9037 - val_loss: 0.1429 - val_accuracy: 0.9444\n",
            "Epoch 12/50\n",
            "61/61 [==============================] - 2s 33ms/step - loss: 0.2850 - accuracy: 0.9136 - val_loss: 0.1878 - val_accuracy: 0.9444\n",
            "Epoch 13/50\n",
            "61/61 [==============================] - 3s 50ms/step - loss: 0.3027 - accuracy: 0.8904 - val_loss: 0.1912 - val_accuracy: 0.9444\n",
            "Epoch 14/50\n",
            "61/61 [==============================] - 2s 36ms/step - loss: 0.2996 - accuracy: 0.9070 - val_loss: 0.1560 - val_accuracy: 0.9444\n",
            "Epoch 15/50\n",
            "61/61 [==============================] - 2s 38ms/step - loss: 0.2529 - accuracy: 0.9236 - val_loss: 0.4637 - val_accuracy: 0.8667\n",
            "Epoch 16/50\n",
            "61/61 [==============================] - 3s 49ms/step - loss: 0.3162 - accuracy: 0.9302 - val_loss: 0.2228 - val_accuracy: 0.9000\n",
            "Epoch 17/50\n",
            "61/61 [==============================] - 3s 47ms/step - loss: 0.2432 - accuracy: 0.9169 - val_loss: 0.0667 - val_accuracy: 0.9889\n",
            "Epoch 18/50\n",
            "61/61 [==============================] - 2s 34ms/step - loss: 0.2651 - accuracy: 0.9103 - val_loss: 0.2769 - val_accuracy: 0.8889\n",
            "Epoch 19/50\n",
            "61/61 [==============================] - 2s 37ms/step - loss: 0.3182 - accuracy: 0.8904 - val_loss: 0.1394 - val_accuracy: 0.9556\n",
            "Epoch 20/50\n",
            "61/61 [==============================] - 2s 36ms/step - loss: 0.2718 - accuracy: 0.8970 - val_loss: 0.2691 - val_accuracy: 0.9222\n",
            "Epoch 21/50\n",
            "61/61 [==============================] - 2s 36ms/step - loss: 0.2513 - accuracy: 0.9103 - val_loss: 0.3106 - val_accuracy: 0.9222\n",
            "Epoch 22/50\n",
            "61/61 [==============================] - 3s 52ms/step - loss: 0.2381 - accuracy: 0.9136 - val_loss: 0.1193 - val_accuracy: 0.9667\n",
            "Epoch 23/50\n",
            "61/61 [==============================] - 2s 36ms/step - loss: 0.2769 - accuracy: 0.9169 - val_loss: 0.2496 - val_accuracy: 0.9000\n",
            "Epoch 24/50\n",
            "61/61 [==============================] - 2s 35ms/step - loss: 0.3072 - accuracy: 0.8937 - val_loss: 0.1973 - val_accuracy: 0.9222\n",
            "Epoch 25/50\n",
            "61/61 [==============================] - 2s 33ms/step - loss: 0.2896 - accuracy: 0.9136 - val_loss: 0.6133 - val_accuracy: 0.7667\n",
            "Epoch 26/50\n",
            "61/61 [==============================] - 2s 35ms/step - loss: 0.2700 - accuracy: 0.9236 - val_loss: 0.2110 - val_accuracy: 0.9000\n",
            "Epoch 27/50\n",
            "61/61 [==============================] - 3s 42ms/step - loss: 0.3103 - accuracy: 0.9203 - val_loss: 0.5863 - val_accuracy: 0.8556\n",
            "Epoch 28/50\n",
            "61/61 [==============================] - 3s 50ms/step - loss: 0.2761 - accuracy: 0.9203 - val_loss: 0.4863 - val_accuracy: 0.8778\n",
            "Epoch 29/50\n",
            "61/61 [==============================] - 2s 36ms/step - loss: 0.3380 - accuracy: 0.9169 - val_loss: 0.1520 - val_accuracy: 0.9444\n",
            "Epoch 30/50\n",
            "61/61 [==============================] - 2s 35ms/step - loss: 0.2932 - accuracy: 0.8970 - val_loss: 0.3529 - val_accuracy: 0.8778\n",
            "Epoch 31/50\n",
            "61/61 [==============================] - 2s 34ms/step - loss: 0.2891 - accuracy: 0.9103 - val_loss: 0.1395 - val_accuracy: 0.9333\n",
            "Epoch 32/50\n",
            "61/61 [==============================] - 3s 44ms/step - loss: 0.2749 - accuracy: 0.9136 - val_loss: 0.2682 - val_accuracy: 0.8667\n",
            "Epoch 33/50\n",
            "61/61 [==============================] - 3s 50ms/step - loss: 0.2227 - accuracy: 0.9269 - val_loss: 0.4574 - val_accuracy: 0.9000\n",
            "Epoch 34/50\n",
            "61/61 [==============================] - 2s 32ms/step - loss: 0.2472 - accuracy: 0.9236 - val_loss: 0.2573 - val_accuracy: 0.9222\n",
            "Epoch 35/50\n",
            "61/61 [==============================] - 2s 34ms/step - loss: 0.2346 - accuracy: 0.9236 - val_loss: 0.2275 - val_accuracy: 0.9111\n",
            "Epoch 36/50\n",
            "61/61 [==============================] - 2s 33ms/step - loss: 0.3298 - accuracy: 0.9169 - val_loss: 0.2202 - val_accuracy: 0.9333\n",
            "Epoch 37/50\n",
            "61/61 [==============================] - 6s 93ms/step - loss: 0.2456 - accuracy: 0.9435 - val_loss: 0.1682 - val_accuracy: 0.9333\n",
            "Epoch 38/50\n",
            "61/61 [==============================] - 2s 33ms/step - loss: 0.2775 - accuracy: 0.9169 - val_loss: 0.1059 - val_accuracy: 0.9556\n",
            "Epoch 39/50\n",
            "61/61 [==============================] - 2s 35ms/step - loss: 0.3656 - accuracy: 0.8870 - val_loss: 0.3872 - val_accuracy: 0.8556\n",
            "Epoch 40/50\n",
            "61/61 [==============================] - 3s 45ms/step - loss: 0.2684 - accuracy: 0.9203 - val_loss: 0.1531 - val_accuracy: 0.9333\n",
            "Epoch 41/50\n",
            "61/61 [==============================] - 2s 33ms/step - loss: 0.2725 - accuracy: 0.9103 - val_loss: 0.2279 - val_accuracy: 0.9333\n",
            "Epoch 42/50\n",
            "61/61 [==============================] - 2s 34ms/step - loss: 0.2800 - accuracy: 0.9203 - val_loss: 0.2837 - val_accuracy: 0.8667\n",
            "Epoch 43/50\n",
            "61/61 [==============================] - 2s 34ms/step - loss: 0.2243 - accuracy: 0.9136 - val_loss: 0.1069 - val_accuracy: 0.9444\n",
            "Epoch 44/50\n",
            "61/61 [==============================] - 2s 33ms/step - loss: 0.2758 - accuracy: 0.9070 - val_loss: 0.2160 - val_accuracy: 0.9333\n",
            "Epoch 45/50\n",
            "61/61 [==============================] - 3s 48ms/step - loss: 0.1962 - accuracy: 0.9269 - val_loss: 0.1302 - val_accuracy: 0.9556\n",
            "Epoch 46/50\n",
            "61/61 [==============================] - 2s 34ms/step - loss: 0.2783 - accuracy: 0.9136 - val_loss: 0.1135 - val_accuracy: 0.9667\n",
            "Epoch 47/50\n",
            "61/61 [==============================] - 2s 34ms/step - loss: 0.2663 - accuracy: 0.8970 - val_loss: 0.3232 - val_accuracy: 0.9000\n",
            "Epoch 48/50\n",
            "61/61 [==============================] - 2s 34ms/step - loss: 0.2362 - accuracy: 0.9070 - val_loss: 0.2053 - val_accuracy: 0.9222\n",
            "Epoch 49/50\n",
            "61/61 [==============================] - 2s 34ms/step - loss: 0.2929 - accuracy: 0.9269 - val_loss: 0.1668 - val_accuracy: 0.9444\n",
            "Epoch 50/50\n",
            "61/61 [==============================] - 2s 41ms/step - loss: 0.2559 - accuracy: 0.9136 - val_loss: 0.2237 - val_accuracy: 0.9111\n"
          ]
        }
      ],
      "source": [
        "model.compile(loss=\"binary_crossentropy\",\n",
        "              optimizer=tf.keras.optimizers.RMSprop(learning_rate=1e-3),\n",
        "              metrics=[\"accuracy\"])\n",
        "\n",
        "history=model.fit(train_dataset,\n",
        "                  # steps_per_epoch=32,\n",
        "                  batch_size=16,\n",
        "                  epochs=50,\n",
        "                  validation_data=val_dataset)"
      ]
    },
    {
      "cell_type": "code",
      "execution_count": null,
      "metadata": {
        "id": "1zENh4DQzNMb"
      },
      "outputs": [],
      "source": [
        "model.save(\"/content/model_128.h5\")"
      ]
    },
    {
      "cell_type": "code",
      "execution_count": null,
      "metadata": {
        "id": "uNewr2cLj5oq",
        "colab": {
          "base_uri": "https://localhost:8080/"
        },
        "outputId": "55a581cd-c6e9-4708-d01a-5787490b915c"
      },
      "outputs": [
        {
          "output_type": "stream",
          "name": "stdout",
          "text": [
            "1/1 [==============================] - 0s 18ms/step\n",
            "1/1 [==============================] - 0s 23ms/step\n",
            "[[2.6770262e-08 1.0000000e+00]]\n",
            "Not Cracked\n"
          ]
        }
      ],
      "source": [
        "import cv2\n",
        "file=\"/content/drive/MyDrive/dataset_0/validation/Not Cracked/1.jpg\"\n",
        "image=cv2.imread(file, cv2.IMREAD_GRAYSCALE)\n",
        "image=cv2.resize(image,(128,128))\n",
        "image=np.expand_dims(image,0)\n",
        "prediction=np.argmax(model.predict(image))\n",
        "print(model.predict(image))\n",
        "if prediction == 0:\n",
        "  print('Cracked')\n",
        "\n",
        "elif prediction==1:\n",
        "  print('Not Cracked')"
      ]
    },
    {
      "cell_type": "code",
      "execution_count": null,
      "metadata": {
        "id": "Rj6t3crLl_Y0"
      },
      "outputs": [],
      "source": [
        "import os\n",
        "def get_file_size(file_path):\n",
        "  size=os.path.getsize(file_path)\n",
        "  return size\n",
        "def convert_bytes(size,unit=None):\n",
        "  if unit==\"KB\":\n",
        "    return print(\"File size: \"+str(round(size/1024,3))+\" Kilobytes\")\n",
        "  elif unit==\"MB\":\n",
        "    return print(\"File size: \"+str(round(size/(1024*1024),3))+\" Megabytes\")\n",
        "  else:\n",
        "    return print(\"File size: \"+str(size)+\"bytes\")"
      ]
    },
    {
      "cell_type": "code",
      "execution_count": null,
      "metadata": {
        "id": "m52QuAlPl_Y3",
        "colab": {
          "base_uri": "https://localhost:8080/"
        },
        "outputId": "3264d076-9168-4214-abf6-b709fce738ee"
      },
      "outputs": [
        {
          "output_type": "stream",
          "name": "stdout",
          "text": [
            "File size: 0.143 Megabytes\n"
          ]
        }
      ],
      "source": [
        "# Model Size Before Model Quantization\n",
        "model=\"/content/model_128.h5\"\n",
        "convert_bytes(get_file_size(model),\"MB\")"
      ]
    },
    {
      "cell_type": "code",
      "source": [
        "import glob\n",
        "import cv2\n",
        "import numpy as array\n",
        "files=glob.glob('/content/drive/MyDrive/dataset_3/train/Cracked/*')\n",
        "images=[]\n",
        "for file in files:\n",
        "  image=cv2.imread(file, cv2.IMREAD_GRAYSCALE)\n",
        "  image=cv2.resize(image,(128,128))\n",
        "  # image=image/255\n",
        "  image=np.array(image,dtype=np.float32)\n",
        "  images.append(image)"
      ],
      "metadata": {
        "id": "1yX0NVa1Mt5_"
      },
      "execution_count": null,
      "outputs": []
    },
    {
      "cell_type": "code",
      "source": [
        "images=np.array(images)\n",
        "# images=np.squeeze(images,-1)\n",
        "images.shape"
      ],
      "metadata": {
        "id": "uqNtH6TzNJ_Z",
        "colab": {
          "base_uri": "https://localhost:8080/"
        },
        "outputId": "b8b98eb4-cdfe-4e6c-9dab-c37e693fd158"
      },
      "execution_count": null,
      "outputs": [
        {
          "output_type": "execute_result",
          "data": {
            "text/plain": [
              "(149, 128, 128)"
            ]
          },
          "metadata": {},
          "execution_count": 31
        }
      ]
    },
    {
      "cell_type": "code",
      "source": [
        "def dataset_generator():\n",
        "   for i in range(100):\n",
        "      input_image = tf.cast(images[i], tf.float32)\n",
        "      input_image = tf.reshape(input_image, [1,128,128,1])\n",
        "      yield ([input_image])"
      ],
      "metadata": {
        "id": "OfpCeOl2N8T8"
      },
      "execution_count": null,
      "outputs": []
    },
    {
      "cell_type": "code",
      "execution_count": null,
      "metadata": {
        "id": "BCvfDqxtmtD0",
        "colab": {
          "base_uri": "https://localhost:8080/"
        },
        "outputId": "9508b27a-5219-4437-8e43-0106100d205f"
      },
      "outputs": [
        {
          "output_type": "stream",
          "name": "stderr",
          "text": [
            "WARNING:absl:Found untraced functions such as _jit_compiled_convolution_op, _jit_compiled_convolution_op, _jit_compiled_convolution_op, _jit_compiled_convolution_op, _jit_compiled_convolution_op while saving (showing 5 of 19). These functions will not be directly callable after loading.\n",
            "/usr/local/lib/python3.10/dist-packages/tensorflow/lite/python/convert.py:789: UserWarning: Statistics for quantized inputs were expected, but not specified; continuing anyway.\n",
            "  warnings.warn(\"Statistics for quantized inputs were expected, but not \"\n"
          ]
        },
        {
          "output_type": "execute_result",
          "data": {
            "text/plain": [
              "21336"
            ]
          },
          "metadata": {},
          "execution_count": 34
        }
      ],
      "source": [
        "import tensorflow as tf\n",
        "model=\"/content/model_128.h5\"\n",
        "model=tf.keras.models.load_model(model)\n",
        "converter = tf.lite.TFLiteConverter.from_keras_model(model)\n",
        "converter.optimizations=[tf.lite.Optimize.DEFAULT]\n",
        "converter.target_spec.supported_ops = [tf.lite.OpsSet.TFLITE_BUILTINS_INT8]\n",
        "converter.representative_dataset=dataset_generator\n",
        "converter.inference_input_type = tf.int8\n",
        "converter.inference_output_type = tf.int8\n",
        "tflite_model_name=\"model.tflite\"\n",
        "tflite_model = converter.convert()\n",
        "open(tflite_model_name,\"wb\").write(tflite_model)"
      ]
    },
    {
      "cell_type": "code",
      "execution_count": null,
      "metadata": {
        "id": "4sEBDJwxmtD0",
        "colab": {
          "base_uri": "https://localhost:8080/"
        },
        "outputId": "e71d133e-ae65-4b93-d801-379b5cf25637"
      },
      "outputs": [
        {
          "output_type": "stream",
          "name": "stdout",
          "text": [
            "File size: 20.836 Kilobytes\n"
          ]
        }
      ],
      "source": [
        "# Model Size After Model Quantization\n",
        "tflite_model=\"/content/model.tflite\"\n",
        "convert_bytes(get_file_size(tflite_model),\"KB\")"
      ]
    },
    {
      "cell_type": "code",
      "source": [
        "import binascii\n",
        "def convert_to_c_array(bytes) -> str:\n",
        "  hexstr = binascii.hexlify(bytes).decode(\"UTF-8\")\n",
        "  hexstr = hexstr.upper()\n",
        "  array = [\"0x\" + hexstr[i:i + 2] for i in range(0, len(hexstr), 2)]\n",
        "  array = [array[i:i+10] for i in range(0, len(array), 10)]\n",
        "  return \",\\n  \".join([\", \".join(e) for e in array])\n",
        "\n",
        "tflite_binary = open('model.tflite', 'rb').read()\n",
        "ascii_bytes = convert_to_c_array(tflite_binary)\n",
        "header_file = \"const unsigned char model_tflite[] = {\\n  \" + ascii_bytes + \"\\n};\\nunsigned int model_tflite_len = \" + str(len(tflite_binary)) + \";\"\n",
        "open(\"model_128.h\", \"w\").write(header_file)\n",
        "convert_bytes(get_file_size('/content/model_128.h'),\"KB\")"
      ],
      "metadata": {
        "id": "5l2VaKpWxfvE",
        "colab": {
          "base_uri": "https://localhost:8080/"
        },
        "outputId": "21fe20e8-b41b-481a-b0d0-d6c492b2a895"
      },
      "execution_count": null,
      "outputs": [
        {
          "output_type": "stream",
          "name": "stdout",
          "text": [
            "File size: 129.261 Kilobytes\n"
          ]
        }
      ]
    },
    {
      "cell_type": "code",
      "source": [
        "# train_data=train_dataset[0]\n",
        "# X_train=train_data[0]\n",
        "# y_train=train_data[1]\n",
        "\n",
        "# test_data=val_dataset[0]\n",
        "# X_test=test_data[0]\n",
        "# y_test=test_data[1]\n",
        "\n",
        "# print(X_train.shape,X_test.shape,y_train.shape,y_test.shape)\n",
        "# # print(y_test)"
      ],
      "metadata": {
        "id": "xPCDgWWCGppa"
      },
      "execution_count": null,
      "outputs": []
    },
    {
      "cell_type": "code",
      "source": [
        "for layer in model.layers:\n",
        "  print(layer.get_config()['name'])"
      ],
      "metadata": {
        "id": "PeWBgQDNBTzS"
      },
      "execution_count": null,
      "outputs": []
    },
    {
      "cell_type": "code",
      "execution_count": null,
      "metadata": {
        "id": "1muAoUm8lSXL"
      },
      "outputs": [],
      "source": [
        "# Convert the model to the TensorFlow Lite format without quantization\n",
        "converter = tf.lite.TFLiteConverter.from_saved_model(MODEL_TF)\n",
        "model_no_quant_tflite = converter.convert()\n",
        "\n",
        "# Save the model to disk\n",
        "open(MODEL_NO_QUANT_TFLITE, \"wb\").write(model_no_quant_tflite)\n",
        "\n",
        "# Convert the model to the TensorFlow Lite format with quantization\n",
        "def representative_dataset():\n",
        "  for i in range(500):\n",
        "    yield([x_train[i].reshape(1, 1)])\n",
        "# Set the optimization flag.\n",
        "converter.optimizations = [tf.lite.Optimize.DEFAULT]\n",
        "# Enforce integer only quantization\n",
        "converter.target_spec.supported_ops = [tf.lite.OpsSet.TFLITE_BUILTINS_INT8]\n",
        "# Provide a representative dataset to ensure we quantize correctly.\n",
        "converter.representative_dataset = representative_dataset\n",
        "model_tflite = converter.convert()\n",
        "\n",
        "# Save the model to disk\n",
        "open(MODEL_TFLITE, \"wb\").write(model_tflite)"
      ]
    }
  ],
  "metadata": {
    "accelerator": "GPU",
    "colab": {
      "provenance": [],
      "gpuType": "T4",
      "authorship_tag": "ABX9TyM08OWVxbcVIXzYCCW5ppO0",
      "include_colab_link": true
    },
    "kernelspec": {
      "display_name": "Python 3",
      "name": "python3"
    },
    "language_info": {
      "name": "python"
    }
  },
  "nbformat": 4,
  "nbformat_minor": 0
}